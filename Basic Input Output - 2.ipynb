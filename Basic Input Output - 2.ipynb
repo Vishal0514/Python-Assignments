{
 "cells": [
  {
   "cell_type": "markdown",
   "id": "fa07c489",
   "metadata": {},
   "source": [
    "## 1. Write a program to Swap two numbers"
   ]
  },
  {
   "cell_type": "code",
   "execution_count": 1,
   "id": "6bb886a5",
   "metadata": {},
   "outputs": [
    {
     "name": "stdout",
     "output_type": "stream",
     "text": [
      "Enter the number = 5\n",
      "Enter the number = 32\n",
      "Swapping 32 5\n"
     ]
    }
   ],
   "source": [
    "a=int(input(\"Enter the number = \"))\n",
    "b=int(input('Enter the number = '))\n",
    "c=a\n",
    "a=b\n",
    "b=c\n",
    "print('Swapping',a,b)"
   ]
  },
  {
   "cell_type": "markdown",
   "id": "c5340cfd",
   "metadata": {},
   "source": [
    "## 2. Write a program to Swap two numbers without using third variable"
   ]
  },
  {
   "cell_type": "code",
   "execution_count": 2,
   "id": "66e4db79",
   "metadata": {},
   "outputs": [
    {
     "name": "stdout",
     "output_type": "stream",
     "text": [
      "Enter the number = 50\n",
      "Enter the number = 57\n",
      "Swapping 57 50\n"
     ]
    }
   ],
   "source": [
    "a=int(input('Enter the number = '))\n",
    "b=int(input('Enter the number = '))\n",
    "a,b=b,a\n",
    "print('Swapping',a,b)"
   ]
  },
  {
   "cell_type": "markdown",
   "id": "4823b918",
   "metadata": {},
   "source": [
    "## 3. Write a program to compute Simple Interest"
   ]
  },
  {
   "cell_type": "code",
   "execution_count": 3,
   "id": "af1ff169",
   "metadata": {},
   "outputs": [
    {
     "name": "stdout",
     "output_type": "stream",
     "text": [
      "Enter principle amount = 100000\n",
      "Enter ROI = 12\n",
      "Enter tenure in years  = 5\n",
      "The simle interest for the entered values is 60000.0\n"
     ]
    }
   ],
   "source": [
    "p=int(input('Enter principle amount = '))\n",
    "r=int(input('Enter ROI = '))\n",
    "t=int(input('Enter tenure in years  = '))\n",
    "si = p*r*t/100\n",
    "print('The simle interest for the entered values is',si)"
   ]
  },
  {
   "cell_type": "markdown",
   "id": "2642786a",
   "metadata": {},
   "source": [
    "## 4. Write a program to find Average of five numbers by user input"
   ]
  },
  {
   "cell_type": "code",
   "execution_count": 5,
   "id": "f8988242",
   "metadata": {},
   "outputs": [
    {
     "name": "stdout",
     "output_type": "stream",
     "text": [
      "Enter the first number = 10\n",
      "Enter the second number = 20\n",
      "Enter the third number = 30\n",
      "Enter the forth number = 50\n",
      "Enter the fifth number = 90\n",
      "Average of five numbers is  40.0\n"
     ]
    }
   ],
   "source": [
    "a=int(input('Enter the first number = '))\n",
    "b=int(input('Enter the second number = '))\n",
    "c=int(input('Enter the third number = '))\n",
    "d=int(input('Enter the forth number = '))\n",
    "e=int(input('Enter the fifth number = '))\n",
    "avg=(a+b+c+d+e)/5\n",
    "print('Average of five numbers is ',avg)"
   ]
  },
  {
   "cell_type": "markdown",
   "id": "9f5830f4",
   "metadata": {},
   "source": [
    "## 5. Write a program to calculate the Discriminant of quadratic equation"
   ]
  },
  {
   "cell_type": "code",
   "execution_count": 1,
   "id": "76ee58c0",
   "metadata": {},
   "outputs": [
    {
     "name": "stdout",
     "output_type": "stream",
     "text": [
      "Enter the number = 9\n",
      "Enter the number = 4\n",
      "Enter the number = 2\n",
      "Discriminant of the number is  -56\n"
     ]
    }
   ],
   "source": [
    "a=int(input('Enter the number = '))\n",
    "b=int(input('Enter the number = '))\n",
    "c=int(input('Enter the number = '))\n",
    "Discriminant=b**2-4*a*c\n",
    "print('Discriminant of the number is ',Discriminant)"
   ]
  },
  {
   "cell_type": "code",
   "execution_count": null,
   "id": "675ed50d",
   "metadata": {},
   "outputs": [],
   "source": []
  }
 ],
 "metadata": {
  "kernelspec": {
   "display_name": "Python 3 (ipykernel)",
   "language": "python",
   "name": "python3"
  },
  "language_info": {
   "codemirror_mode": {
    "name": "ipython",
    "version": 3
   },
   "file_extension": ".py",
   "mimetype": "text/x-python",
   "name": "python",
   "nbconvert_exporter": "python",
   "pygments_lexer": "ipython3",
   "version": "3.9.13"
  }
 },
 "nbformat": 4,
 "nbformat_minor": 5
}
